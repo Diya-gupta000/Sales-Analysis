{
  "nbformat": 4,
  "nbformat_minor": 0,
  "metadata": {
    "colab": {
      "provenance": [],
      "toc_visible": true
    },
    "kernelspec": {
      "name": "python3",
      "display_name": "Python 3"
    },
    "language_info": {
      "name": "python"
    }
  },
  "cells": [
    {
      "cell_type": "markdown",
      "source": [
        "Import neccesary packages like pandas, numpy, and matplotlib.pyplot"
      ],
      "metadata": {
        "id": "AaC8dHbcepzv"
      }
    },
    {
      "cell_type": "code",
      "execution_count": null,
      "metadata": {
        "id": "Bx3-sJFhj4hZ"
      },
      "outputs": [],
      "source": [
        "import pandas as pd\n",
        "import numpy as np\n",
        "import matplotlib.pyplot as plt"
      ]
    },
    {
      "cell_type": "markdown",
      "source": [
        "Since each dataset is monthly, write some code to combine all 12 data sets for 2019."
      ],
      "metadata": {
        "id": "W-JqHDeVe0cl"
      }
    },
    {
      "cell_type": "code",
      "source": [
        "months = ['January', 'February', 'March', 'April', 'May', 'June', 'July', 'August', 'September', 'October', 'November', 'December']\n",
        "different_csvs = []\n",
        "for month in months:\n",
        "  monthly = pd.read_csv(f'https://raw.githubusercontent.com/i-am-darshil/Data-Analysis-With-Pandas/main/SalesData/Sales_{month}_2019.csv')\n",
        "  different_csvs.append(monthly)\n",
        "\n",
        "df = pd.concat(different_csvs, ignore_index=True)"
      ],
      "metadata": {
        "id": "ciTkljUt7-YM"
      },
      "execution_count": null,
      "outputs": []
    },
    {
      "cell_type": "markdown",
      "source": [
        "Determine whether there are null values in the combined dataset."
      ],
      "metadata": {
        "id": "7Lbz6aGYe_Yf"
      }
    },
    {
      "cell_type": "code",
      "source": [
        "nan_count = df.isna().sum(axis=0)\n",
        "print(nan_count)\n",
        "print(df.info())"
      ],
      "metadata": {
        "id": "opeEgl1aoIUy"
      },
      "execution_count": null,
      "outputs": []
    },
    {
      "cell_type": "markdown",
      "source": [
        "Clean dataset by:\n",
        "1. dropping null values\n",
        "2. reseting the index so there are no missing numbers"
      ],
      "metadata": {
        "id": "rtIF3tcwfXcZ"
      }
    },
    {
      "cell_type": "code",
      "source": [
        "df_clean = df.dropna()\n",
        "df_reset = df_clean.reset_index(drop=True)\n",
        "df_reset.info()"
      ],
      "metadata": {
        "id": "1MreUIlns87J"
      },
      "execution_count": null,
      "outputs": []
    },
    {
      "cell_type": "markdown",
      "source": [
        "Remove the values that aren't null but aren't inputed as an actual value."
      ],
      "metadata": {
        "id": "icn7h4ojfoSe"
      }
    },
    {
      "cell_type": "code",
      "source": [
        "df_reset.drop(df_reset[df_reset['Quantity Ordered'] == \"Quantity Ordered\"].index, inplace=True)"
      ],
      "metadata": {
        "id": "MyoqR5R1Hfpw"
      },
      "execution_count": null,
      "outputs": []
    },
    {
      "cell_type": "markdown",
      "source": [
        "Change the column types to more appropriate types. So for example if the column holds numeric values, make sure the type is a float/integer instead of a string/object."
      ],
      "metadata": {
        "id": "6thJ28S6fzCF"
      }
    },
    {
      "cell_type": "code",
      "source": [
        "df_reset['Quantity Ordered'] = df_reset['Quantity Ordered'].astype(int)\n",
        "df_reset['Price Each'] = df_reset['Price Each'].astype(float)\n",
        "df_reset.info()\n"
      ],
      "metadata": {
        "id": "Hl8Nr7Wst4vj"
      },
      "execution_count": null,
      "outputs": []
    },
    {
      "cell_type": "code",
      "source": [
        "print(df_reset)"
      ],
      "metadata": {
        "id": "rbyLkIpyHJeg"
      },
      "execution_count": null,
      "outputs": []
    },
    {
      "cell_type": "markdown",
      "source": [
        "Create a column for the total transaction amount per order. Get this by identifying the price of each product and multiplying it by the quantity ordered."
      ],
      "metadata": {
        "id": "D49ZxsNDgRj-"
      }
    },
    {
      "cell_type": "code",
      "source": [
        "df_reset[\"Total Price\"] = df_reset[\"Quantity Ordered\"] * df_reset[\"Price Each\"]\n",
        "df_reset"
      ],
      "metadata": {
        "id": "fkmydZBzH2t_"
      },
      "execution_count": null,
      "outputs": []
    },
    {
      "cell_type": "markdown",
      "source": [
        "Create a column for the state the order was placed in so you can do state-wide analysis."
      ],
      "metadata": {
        "id": "-AIVautagkJF"
      }
    },
    {
      "cell_type": "code",
      "source": [
        "df_reset[\"State\"] = df_reset['Purchase Address'].str[-8:-6]\n",
        "df_reset"
      ],
      "metadata": {
        "id": "yocgdwMYs-0s"
      },
      "execution_count": null,
      "outputs": []
    },
    {
      "cell_type": "markdown",
      "source": [
        "Use Matplotlib.pyplot to create a graph that identifies which state generates the most revenue."
      ],
      "metadata": {
        "id": "QJTJfaX5gurv"
      }
    },
    {
      "cell_type": "code",
      "source": [
        "state_totals = df_reset.groupby('State')['Total Price'].sum() / 1000\n",
        "state_totals = state_totals.sort_values(ascending=False)\n",
        "\n",
        "plt.figure(figsize=(10, 6))\n",
        "graph = state_totals.plot(kind='bar', color='skyblue')\n",
        "\n",
        "plt.title('Total Transaction Amount by State')\n",
        "plt.xlabel('State')\n",
        "plt.ylabel('Total Transaction Amount (K)')\n",
        "\n",
        "graph.ticklabel_format(style='plain', axis='y')\n",
        "\n",
        "plt.show()"
      ],
      "metadata": {
        "id": "NmwZp_1VxYF0"
      },
      "execution_count": null,
      "outputs": []
    },
    {
      "cell_type": "markdown",
      "source": [
        "Figure out which product generates the most revenue for ht ebusiness by creating a graph that groups the price by product and putting that on a graph. Also figure out which product is being ordered the most. (Same thing but with quantity ordered)"
      ],
      "metadata": {
        "id": "C-3rvcLYg89d"
      }
    },
    {
      "cell_type": "code",
      "source": [
        "products_count = df_reset.groupby('Product')['Total Price'].sum()/1000\n",
        "products_count = products_count.sort_values(ascending=False)\n",
        "products_count\n",
        "\n",
        "plt.figure(figsize=(14, 10))\n",
        "graph2 = products_count.plot(kind='bar', color='magenta')\n",
        "\n",
        "plt.title('Total Transaction Amount by Product (Thousand Dollars)')\n",
        "plt.xlabel('Product')\n",
        "plt.ylabel('Total Transaction Amount')\n",
        "\n",
        "graph2.ticklabel_format(style='plain', axis='y')\n",
        "\n",
        "plt.show()\n",
        "\n",
        "quantity_count = df_reset.groupby('Product')['Quantity Ordered'].sum()\n",
        "quantity_count = products_count.sort_values(ascending=False)\n",
        "quantity_count\n",
        "\n",
        "plt.figure(figsize=(14, 10))\n",
        "graph2 = quantity_count.plot(kind='bar', color='teal')\n",
        "\n",
        "plt.title('Quantity Ordered by Product')\n",
        "plt.xlabel('Product')\n",
        "plt.ylabel('Total Quantity Amount by Product')\n",
        "\n",
        "graph2.ticklabel_format(style='plain', axis='y')\n",
        "\n",
        "plt.show()"
      ],
      "metadata": {
        "id": "G2F8Mkq2aHcG"
      },
      "execution_count": null,
      "outputs": []
    },
    {
      "cell_type": "markdown",
      "source": [
        "Create graph of all the revenue generated in April so you can determine when to advertise."
      ],
      "metadata": {
        "id": "aEZVMuZPhcfE"
      }
    },
    {
      "cell_type": "code",
      "source": [
        "\n",
        "df_reset['Order Date'] = pd.to_datetime(df_reset['Order Date'], format='%m/%d/%y %H:%M')\n",
        "df_reset['Day'] = df_reset['Order Date'].dt.day\n",
        "\n",
        "daily_sales = df_reset.groupby('Day')['Total Price'].sum()/1000\n",
        "min_day = daily_sales.idxmin()\n",
        "print(\"You should aim to advertise on the\", min_day, \"of April, since sales are the lowest that day.\")\n",
        "\n",
        "plt.figure(figsize=(10, 6))\n",
        "daily_sales.plot(kind='bar')\n",
        "plt.xlabel('Day in April 2019')\n",
        "plt.ylabel('Total Price (Thousand Dollars)')\n",
        "plt.title('Total Sales by Day in April 2019')\n",
        "plt.xticks(rotation=0)\n",
        "plt.show()"
      ],
      "metadata": {
        "id": "udqsdrDtgWMy"
      },
      "execution_count": null,
      "outputs": []
    },
    {
      "cell_type": "code",
      "source": [
        "df.head(10)"
      ],
      "metadata": {
        "id": "yDH-zFjGQph8"
      },
      "execution_count": null,
      "outputs": []
    },
    {
      "cell_type": "markdown",
      "source": [
        "Make a graph to understand what time of day you make the most money."
      ],
      "metadata": {
        "id": "BRT--ptyho7z"
      }
    },
    {
      "cell_type": "code",
      "source": [
        "df_reset['hour']= pd.to_datetime(df_reset['Order Date']).dt.hour\n",
        "df_reset.head(10)\n",
        "sale_by_hour = df_reset.groupby('hour')['Total Price'].sum()\n",
        "plt.figure(figsize=(14, 10))\n",
        "graph3 = sale_by_hour.plot(kind='bar', color='maroon')\n",
        "\n",
        "plt.title('Total Transaction Amount by hour of day')\n",
        "plt.xlabel('Hour')\n",
        "plt.ylabel('Total Transaction Amount')\n",
        "\n",
        "graph3.ticklabel_format(style='plain', axis='y')\n",
        "\n",
        "plt.show()\n"
      ],
      "metadata": {
        "id": "VjPmuZ4r9KYd"
      },
      "execution_count": null,
      "outputs": []
    },
    {
      "cell_type": "code",
      "source": [
        "df_reset['hour']= pd.to_datetime(df_reset['Order Date']).dt.hour\n",
        "df_reset.head(10)\n",
        "sale_by_hour = df_reset.groupby('hour')['Quantity Ordered'].sum()\n",
        "plt.figure(figsize=(14, 10))\n",
        "graph4 = sale_by_hour.plot(kind='bar', color='maroon')\n",
        "\n",
        "plt.title('Total Transaction Amount by hour of day')\n",
        "plt.xlabel('Hour')\n",
        "plt.ylabel('Total Transaction Amount')\n",
        "\n",
        "graph4.ticklabel_format(style='plain', axis='y')\n",
        "\n",
        "plt.show()\n"
      ],
      "metadata": {
        "id": "6inGUv6P9SYl"
      },
      "execution_count": null,
      "outputs": []
    },
    {
      "cell_type": "markdown",
      "source": [
        "Figure out which order ID's have duplicates, these orders are the ones where customers bought multiple things at once."
      ],
      "metadata": {
        "id": "vdaeprs4h2Zs"
      }
    },
    {
      "cell_type": "code",
      "source": [
        "duplicates = df_reset['Order ID'][df['Order ID'].duplicated()]\n",
        "\n",
        "# Display the duplicate values and their counts\n",
        "duplicate_counts = duplicates.value_counts()\n",
        "duplicate_counts"
      ],
      "metadata": {
        "collapsed": true,
        "id": "enNtOC4y_euG"
      },
      "execution_count": null,
      "outputs": []
    },
    {
      "cell_type": "markdown",
      "source": [
        "Use the duplicated order ID to figure out which products are commonly sold together."
      ],
      "metadata": {
        "id": "6twQFMUriBIz"
      }
    },
    {
      "source": [
        "# find which products are frequently sold together using the duplicates in orderID\n",
        "\n",
        "df_duplicated = df_reset[df_reset.duplicated(subset=['Order ID'], keep=False)]\n",
        "grouped_orders = df_duplicated.groupby('Order ID')['Product'].apply(list)\n",
        "print(grouped_orders.head())\n",
        "product_combinations = {}\n",
        "\n",
        "for order in grouped_orders:\n",
        "  # Sort the products to avoid counting (A, B) and (B, A) separately\n",
        "  order = sorted(order)\n",
        "  # Convert the list to a tuple to make it hashable\n",
        "  order_tuple = tuple(order) # Convert list to tuple\n",
        "  if order_tuple in product_combinations: # Check if tuple is in dictionary\n",
        "      product_combinations[order_tuple] += 1\n",
        "  else:\n",
        "      product_combinations[order_tuple] = 1\n",
        "\n",
        "sorted_combinations = sorted(product_combinations.items(), key=lambda x: x[1], reverse=True)\n",
        "\n",
        "for order, count in sorted_combinations[:10]:  # Display top 10 combinations\n",
        "  print(order, count)"
      ],
      "cell_type": "code",
      "metadata": {
        "id": "vYwMVrPniND7"
      },
      "execution_count": null,
      "outputs": []
    }
  ]
}